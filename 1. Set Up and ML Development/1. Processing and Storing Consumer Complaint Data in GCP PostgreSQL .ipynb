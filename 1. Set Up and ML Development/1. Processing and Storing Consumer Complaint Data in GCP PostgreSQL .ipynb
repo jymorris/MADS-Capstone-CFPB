{
 "cells": [
  {
   "cell_type": "markdown",
   "id": "b578969d",
   "metadata": {},
   "source": [
    "## Processing and Storing Consumer Complaint Data in GCP PostgreSQL \n",
    "\n",
    "### The provided code connects to a PostgreSQL database, creates a new table, loads data from a CSV file into a pandas DataFrame, and inserts the data from the DataFrame into the table. The code then demonstrates different methods of fetching data from the database into a pandas DataFrame."
   ]
  },
  {
   "cell_type": "code",
   "execution_count": null,
   "id": "2b95a207",
   "metadata": {},
   "outputs": [],
   "source": [
    "# Required modules are imported.\n",
    "import psycopg2\n",
    "from psycopg2 import extras\n",
    "import pandas as pd"
   ]
  },
  {
   "cell_type": "code",
   "execution_count": null,
   "id": "544db3bf",
   "metadata": {},
   "outputs": [],
   "source": [
    "# Configuration for PostgreSQL database connection.\n",
    "user = \"user name\"\n",
    "password = \"pwd\"\n",
    "database = \"cfpb\"\n",
    "host = \"ip_address\"\n",
    "\n",
    "# Connecting to the PostgreSQL server using provided details.\n",
    "conn = psycopg2.connect(\n",
    "    dbname=database,\n",
    "    user=user,\n",
    "    password=password,\n",
    "    host=host\n",
    ")\n",
    "\n",
    "# Creating a cursor object to execute SQL queries.\n",
    "cur = conn.cursor()"
   ]
  },
  {
   "cell_type": "code",
   "execution_count": null,
   "id": "f5c914f5",
   "metadata": {},
   "outputs": [],
   "source": [
    "# Test the connection by querying the current time.\n",
    "cur.execute(\"SELECT NOW()\")\n",
    "result = cur.fetchone()\n",
    "print(f\"Current time: {result[0]}\")"
   ]
  },
  {
   "cell_type": "code",
   "execution_count": null,
   "id": "b1a0e2ac",
   "metadata": {},
   "outputs": [],
   "source": [
    "# Preparing data for update/create table.\n",
    "# Load a CSV file into a pandas DataFrame.\n",
    "complaint_file = \"you complaint file here, should called complaints.csv\"\n",
    "cfpb = pd.read_csv(complaint_file)\n",
    "print(\"Sanity check： \", cfpb.shape)"
   ]
  },
  {
   "cell_type": "code",
   "execution_count": null,
   "id": "798fd02f",
   "metadata": {},
   "outputs": [],
   "source": [
    "# Converting date formats and handling missing data.\n",
    "def convert_date_format(date):\n",
    "    try:\n",
    "        return pd.to_datetime(date, format='%m/%d/%y').strftime('%Y-%m-%d')\n",
    "    except ValueError:\n",
    "        return date\n",
    "\n",
    "cfpb['Date received'] = cfpb['Date received'].apply(convert_date_format)\n",
    "cfpb['Date sent to company'] = cfpb['Date sent to company'].apply(convert_date_format)\n",
    "cfpb['Complaint ID'].fillna(0, inplace=True)\n",
    "cfpb['Complaint ID'] = cfpb['Complaint ID'].astype(float)\n",
    "\n",
    "# Rename columns to make them SQL-friendly (remove spaces and special characters).\n",
    "rename_dict = {\n",
    "    'Date received': 'Date_received',\n",
    "    'Product': 'Product',\n",
    "    'Sub-product': 'Sub_product',\n",
    "    'Issue': 'Issue',\n",
    "    'Sub-issue': 'Sub_issue',\n",
    "    'Consumer complaint narrative': 'Consumer_complaint_narrative',\n",
    "    'Company public response': 'Company_public_response',\n",
    "    'Company': 'Company',\n",
    "    'State': 'State',\n",
    "    'ZIP code': 'ZIP_code',\n",
    "    'Tags': 'Tags',\n",
    "    'Consumer consent provided?': 'Consumer_consent_provided',\n",
    "    'Submitted via': 'Submitted_via',\n",
    "    'Date sent to company': 'Date_sent_to_company',\n",
    "    'Company response to consumer': 'Company_response_to_consumer',\n",
    "    'Timely response?': 'Timely_response',\n",
    "    'Consumer disputed?': 'Consumer_disputed',\n",
    "    'Complaint ID': 'Complaint_ID'\n",
    "}\n",
    "cfpb.rename(columns=rename_dict, inplace=True)"
   ]
  },
  {
   "cell_type": "code",
   "execution_count": null,
   "id": "23e761fe",
   "metadata": {},
   "outputs": [],
   "source": [
    "# Create a new table in the PostgreSQL database with the given schema.\n",
    "table_creation_query = \"\"\"\n",
    "    CREATE TABLE cfpb (\n",
    "        id SERIAL PRIMARY KEY,\n",
    "        \"Date_received\" DATE,\n",
    "        \"Product\" VARCHAR(255),\n",
    "        \"Sub_product\" VARCHAR(255),\n",
    "        \"Issue\" VARCHAR(255),\n",
    "        \"Sub_issue\" VARCHAR(255),\n",
    "        \"Consumer_complaint_narrative\" TEXT,\n",
    "        \"Company_public_response\" VARCHAR(255),\n",
    "        \"Company\" VARCHAR(255),\n",
    "        \"State\" VARCHAR(255),\n",
    "        \"ZIP_code\" VARCHAR(255),\n",
    "        \"Tags\" VARCHAR(255),\n",
    "        \"Consumer_consent_provided\" VARCHAR(255),\n",
    "        \"Submitted_via\" VARCHAR(255),\n",
    "        \"Date_sent_to_company\" DATE,\n",
    "        \"Company_response_to_consumer\" VARCHAR(255),\n",
    "        \"Timely_response\" VARCHAR(255),\n",
    "        \"Consumer_disputed\" VARCHAR(255),\n",
    "        \"Complaint_ID\" INT UNIQUE\n",
    "    );\n",
    "\"\"\"\n",
    "cur.execute(table_creation_query)\n",
    "conn.commit()"
   ]
  },
  {
   "cell_type": "code",
   "execution_count": null,
   "id": "d957337d",
   "metadata": {},
   "outputs": [],
   "source": [
    "# Insert/update the table with data from the DataFrame.\n",
    "# Convert the DataFrame into a list of tuples to insert into the table.\n",
    "records = cfpb.to_records(index=False)\n",
    "result = list(records)\n",
    "\n",
    "# Using a SQL query template to insert values and handle conflicts.\n",
    "insert_query_base = \"\"\"\n",
    "INSERT INTO cfpb (\"Date_received\", \"Product\", \"Sub_product\", \"Issue\", \"Sub_issue\", \"Consumer_complaint_narrative\", \n",
    "\"Company_public_response\", \"Company\", \"State\", \"ZIP_code\", \"Tags\", \"Consumer_consent_provided\", \"Submitted_via\", \n",
    "\"Date_sent_to_company\", \"Company_response_to_consumer\", \"Timely_response\", \"Consumer_disputed\", \"Complaint_ID\") \n",
    "VALUES %s ON CONFLICT (\"Complaint_ID\") DO NOTHING\n",
    "\"\"\"\n",
    "psycopg2.extras.execute_values(cur, insert_query_base, result)\n",
    "conn.commit()"
   ]
  },
  {
   "cell_type": "markdown",
   "id": "0c9a6d51",
   "metadata": {},
   "source": [
    "There are three different methods (two commented out) demonstrating how to fetch the result of the query into a DataFrame."
   ]
  },
  {
   "cell_type": "code",
   "execution_count": null,
   "id": "f7d8f1ff",
   "metadata": {},
   "outputs": [],
   "source": [
    "# Sample code to demonstrate how one might interact with a sidebar tool to run SQL queries.\n",
    "query = f\"\"\"\n",
    "SELECT *\n",
    "FROM cfpb\n",
    "WHERE STATES IN ({state})\n",
    "ORDER BY random()\n",
    "LIMIT 100;\n",
    "\"\"\"\n",
    "\n",
    "df = pd.read_sql_query(query, conn)"
   ]
  },
  {
   "cell_type": "code",
   "execution_count": null,
   "id": "d6c32959",
   "metadata": {},
   "outputs": [],
   "source": [
    "# Close the cursor and the database connection to release resources.\n",
    "cur.close()\n",
    "conn.close()"
   ]
  },
  {
   "cell_type": "code",
   "execution_count": null,
   "id": "81a193eb",
   "metadata": {},
   "outputs": [],
   "source": []
  }
 ],
 "metadata": {
  "kernelspec": {
   "display_name": "Python 3 (ipykernel)",
   "language": "python",
   "name": "python3"
  },
  "language_info": {
   "codemirror_mode": {
    "name": "ipython",
    "version": 3
   },
   "file_extension": ".py",
   "mimetype": "text/x-python",
   "name": "python",
   "nbconvert_exporter": "python",
   "pygments_lexer": "ipython3",
   "version": "3.9.13"
  }
 },
 "nbformat": 4,
 "nbformat_minor": 5
}
