{
 "cells": [
  {
   "cell_type": "code",
   "execution_count": 1,
   "id": "58894057",
   "metadata": {},
   "outputs": [
    {
     "data": {
      "text/html": [
       "<style>.container { width:100% !important; }</style>"
      ],
      "text/plain": [
       "<IPython.core.display.HTML object>"
      ]
     },
     "metadata": {},
     "output_type": "display_data"
    }
   ],
   "source": [
    "# !pip install pip --upgrade\n",
    "import numpy as np\n",
    "from scipy import spatial\n",
    "import matplotlib.pyplot as plt\n",
    "from sklearn.manifold import TSNE\n",
    "\n",
    "import pandas as pd\n",
    "# !pip install pyopenssl --upgrade\n",
    "# !pip install --upgrade smart_open\n",
    "from nltk.corpus import stopwords\n",
    "from nltk.tokenize import word_tokenize\n",
    "import string\n",
    "\n",
    "# for processing\n",
    "import re\n",
    "import nltk\n",
    "from nltk.tokenize import word_tokenize\n",
    "\n",
    "\n",
    "from IPython.display import display, HTML\n",
    "display(HTML(\"<style>.container { width:100% !important; }</style>\"))\n",
    "pd.set_option('display.max_colwidth', None)\n",
    "\n",
    "from datetime import datetime\n",
    "from nltk.tokenize import RegexpTokenizer\n",
    "\n",
    "from sklearn.model_selection import train_test_split, GridSearchCV\n",
    "from sklearn.svm import SVC\n",
    "from sklearn.metrics import classification_report\n",
    "from imblearn.over_sampling import SMOTE\n",
    "from imblearn.over_sampling import ADASYN\n",
    "import numpy as np\n",
    "import pandas as pd"
   ]
  },
  {
   "cell_type": "code",
   "execution_count": 2,
   "id": "68a7987d",
   "metadata": {},
   "outputs": [
    {
     "name": "stdout",
     "output_type": "stream",
     "text": [
      "Wall time: 3.83 s\n"
     ]
    }
   ],
   "source": [
    "%%time\n",
    "embeddings_dict_6B_50D = {}\n",
    "with open(\"glove.6B/glove.6B.50d.txt\", 'r', encoding=\"utf-8\") as f:\n",
    "    for line in f:\n",
    "        values = line.split()\n",
    "        word = ' '.join(values[:-50]).lower().strip()\n",
    "        vector = np.asarray(values[-50:], \"float32\")\n",
    "        embeddings_dict_6B_50D[word] = vector\n",
    "        \n",
    "def vectorize_text_50(text):\n",
    "    vectors = [embeddings_dict_6B_50D.get(word) for word in str(text).split() if word in embeddings_dict_6B_50D]\n",
    "    vectors = [v for v in vectors if v is not None]  # remove any None values\n",
    "    if vectors:\n",
    "        vectorized = np.mean(vectors, axis=0)\n",
    "    else:\n",
    "        vectorized = np.zeros(50)  # if there are no vectors, return a zero-vector\n",
    "    return vectorized"
   ]
  },
  {
   "cell_type": "code",
   "execution_count": 3,
   "id": "848b5d78",
   "metadata": {},
   "outputs": [
    {
     "name": "stdout",
     "output_type": "stream",
     "text": [
      "Wall time: 7.55 s\n"
     ]
    }
   ],
   "source": [
    "%%time\n",
    "embeddings_dict_6B_100D = {}\n",
    "with open(\"glove.6B/glove.6B.100d.txt\", 'r', encoding=\"utf-8\") as f:\n",
    "    for line in f:\n",
    "        values = line.split()\n",
    "        word = ' '.join(values[:-100]).lower().strip()\n",
    "        vector = np.asarray(values[-100:], \"float32\")\n",
    "        embeddings_dict_6B_100D[word] = vector\n",
    "        \n",
    "def vectorize_text_100(text):\n",
    "    vectors = [embeddings_dict_6B_100D.get(word) for word in str(text).split() if word in embeddings_dict_6B_100D]\n",
    "    vectors = [v for v in vectors if v is not None]  # remove any None values\n",
    "    if vectors:\n",
    "        vectorized = np.mean(vectors, axis=0)\n",
    "    else:\n",
    "        vectorized = np.zeros(100)  # if there are no vectors, return a zero-vector\n",
    "    return vectorized"
   ]
  },
  {
   "cell_type": "code",
   "execution_count": 4,
   "id": "b59c8ad4",
   "metadata": {},
   "outputs": [],
   "source": [
    "def text_normalizer(text):\n",
    "    if text:\n",
    "        # Use NLTK RegexpTokenizer for tokenization. \n",
    "        # This tokenizer splits the text by white space and also keeps tokens like \"wasn't\" and \"don't\".\n",
    "        tokenizer = RegexpTokenizer(r'\\b\\w[\\w\\'-]*\\w\\b|\\w')\n",
    "        words = tokenizer.tokenize(text)\n",
    "\n",
    "        # Clean up any token with repeating characters like '666', 'aaa', '!!!!!!', substitute them with empty string ''.\n",
    "        # This includes 'XXXX' maskings in the text created by CFPB.\n",
    "        words = [re.sub(r'(\\w)\\1{2,}', '', word) if re.search(r'(\\w)\\1{2,}', word) else word for word in words]\n",
    "\n",
    "        # Convert to lowercase and remove punctuations.\n",
    "        words = [word.lower().strip() for word in words]\n",
    "\n",
    "        # Substitute the tokens with \"\" where they are just numbers.\n",
    "        words = ['' if word.isdigit() else word for word in words]\n",
    "\n",
    "        # Join the words back into a single string.\n",
    "        text = ' '.join([word for word in words if word])\n",
    "    \n",
    "    return text"
   ]
  },
  {
   "cell_type": "code",
   "execution_count": 5,
   "id": "f906f71e",
   "metadata": {},
   "outputs": [
    {
     "name": "stderr",
     "output_type": "stream",
     "text": [
      "<timed exec>:1: DtypeWarning: Columns (10) have mixed types. Specify dtype option on import or set low_memory=False.\n"
     ]
    },
    {
     "name": "stdout",
     "output_type": "stream",
     "text": [
      "(1300361, 24)\n",
      "Wall time: 23.7 s\n"
     ]
    }
   ],
   "source": [
    "%%time\n",
    "cfpb_df = pd.read_csv(\"CFPB with Duplicate Marked NEW.csv\")\n",
    "print(cfpb_df.shape)"
   ]
  },
  {
   "cell_type": "code",
   "execution_count": 6,
   "id": "731f553d",
   "metadata": {},
   "outputs": [
    {
     "name": "stdout",
     "output_type": "stream",
     "text": [
      "(1083240, 24)\n"
     ]
    }
   ],
   "source": [
    "# Drop duplicates based on 'dupi_id' column\n",
    "cfpb_df = cfpb_df.drop_duplicates(subset='dupi_id')\n",
    "print(cfpb_df.shape)"
   ]
  },
  {
   "cell_type": "code",
   "execution_count": 7,
   "id": "c03bf554",
   "metadata": {},
   "outputs": [
    {
     "data": {
      "text/plain": [
       "<AxesSubplot:ylabel='Frequency'>"
      ]
     },
     "execution_count": 7,
     "metadata": {},
     "output_type": "execute_result"
    },
    {
     "data": {
      "image/png": "[encoded data removed]",
      "text/plain": [
       "<Figure size 640x480 with 1 Axes>"
      ]
     },
     "metadata": {},
     "output_type": "display_data"
    }
   ],
   "source": [
    "cfpb_df[cfpb_df['narr_len']<1000]['narr_len'].plot(kind='hist', bins=100) "
   ]
  },
  {
   "cell_type": "code",
   "execution_count": 8,
   "id": "22b8afe0",
   "metadata": {},
   "outputs": [
    {
     "data": {
      "text/html": [
       "<div>\n",
       "<style scoped>\n",
       "    .dataframe tbody tr th:only-of-type {\n",
       "        vertical-align: middle;\n",
       "    }\n",
       "\n",
       "    .dataframe tbody tr th {\n",
       "        vertical-align: top;\n",
       "    }\n",
       "\n",
       "    .dataframe thead th {\n",
       "        text-align: right;\n",
       "    }\n",
       "</style>\n",
       "<table border=\"1\" class=\"dataframe\">\n",
       "  <thead>\n",
       "    <tr style=\"text-align: right;\">\n",
       "      <th></th>\n",
       "      <th>Consumer complaint narrative</th>\n",
       "      <th>Product</th>\n",
       "    </tr>\n",
       "  </thead>\n",
       "  <tbody>\n",
       "    <tr>\n",
       "      <th>1257518</th>\n",
       "      <td>I disputed this information because this was not my debt. I contacted XXXX XXXX services and I have a XXXX balance. This belongs to XXXX XXXX. The incorrect debt was removed from my credit on XXXX XXXX 2016. I recently just saw that this debt has been reinserted after it was deleted on XXXX XXXX</td>\n",
       "      <td>Credit reporting</td>\n",
       "    </tr>\n",
       "    <tr>\n",
       "      <th>742196</th>\n",
       "      <td>I was affected by the Tornado that struck my place of employment ( XXXX ), which resulted in financial hardship and caused late payments. XXXX XXXX XXXX Please remove these late payments from my account due to natural disaster.</td>\n",
       "      <td>Credit reporting, credit repair services, or other personal consumer reports</td>\n",
       "    </tr>\n",
       "    <tr>\n",
       "      <th>663739</th>\n",
       "      <td>On XX/XX/XXXX, my account was compromised. Someone sent themselves {$410.00} &amp; {$580.00} 2 transactions. The name was XXXX XXXX. \\nThis was not authorized by myself, I realized this a day later, when I was trying to remove money from an atm.</td>\n",
       "      <td>Credit card or prepaid card</td>\n",
       "    </tr>\n",
       "    <tr>\n",
       "      <th>181044</th>\n",
       "      <td>Blackhawk XXXX gift card. An on-line merchant employee took card info during a purchase and attempted several transactions. XXXX succeeded ; XXXX XXXX XXXX for {$250.00}. Blackhawk says it was a valid transaction and refuses to return the money to me.</td>\n",
       "      <td>Prepaid card</td>\n",
       "    </tr>\n",
       "    <tr>\n",
       "      <th>191037</th>\n",
       "      <td>Every time I tried to open a checking accounts it automatically declines and sends them to XXXX XXXX XXXX but they don't resolve nothing and I want to know why is this happening and what can I do from my part to resolve it.</td>\n",
       "      <td>Checking or savings account</td>\n",
       "    </tr>\n",
       "    <tr>\n",
       "      <th>612497</th>\n",
       "      <td>on XXXX XXXX, I sent a letter to the credit bureaus requesting an investigation on 5 accounts. Almost 60 days later, and none of them have responded. I have sent follow-up letters to inquire for the reason for the delay, and those have also gone unanswered.</td>\n",
       "      <td>Credit reporting, credit repair services, or other personal consumer reports</td>\n",
       "    </tr>\n",
       "    <tr>\n",
       "      <th>936335</th>\n",
       "      <td>This company posted a debt to my credit report that is not correct and should not have been reported. I disputed the debt and they still chose to post to my report. No phone call or nothing. By law I have the right to dispute a debt. \\nI never lived in the apartments they claim I owe money too.</td>\n",
       "      <td>Debt collection</td>\n",
       "    </tr>\n",
       "    <tr>\n",
       "      <th>396042</th>\n",
       "      <td>This account was bought out by XXXX XXXX  XXXX  and was paid and closed. Santander is still showing on my credit report even after XXXX bought the account and stopped reporting the account. I have contacted santander by phone and email to remove the account from reporting to the credit bureaus</td>\n",
       "      <td>Debt collection</td>\n",
       "    </tr>\n",
       "    <tr>\n",
       "      <th>89654</th>\n",
       "      <td>I have several items on my credit report that are not mine. I noticed it because I recently applied for a credit card and I wasnt approved so it prompts me to check my credit report. These items listed are not mine and need to be removed. USDDEPTOFEDXXXX XXXX {$1400.00}</td>\n",
       "      <td>Credit reporting, credit repair services, or other personal consumer reports</td>\n",
       "    </tr>\n",
       "    <tr>\n",
       "      <th>764605</th>\n",
       "      <td>I used XXXX service to send the funds and receive the item from the person but it was a fraud and I was ripped off. \\nI immediately called my bank ( Chase ) and I was told once the money has been delivered, they can't do anything about it.</td>\n",
       "      <td>Money transfer, virtual currency, or money service</td>\n",
       "    </tr>\n",
       "  </tbody>\n",
       "</table>\n",
       "</div>"
      ],
      "text/plain": [
       "                                                                                                                                                                                                                                                                                     Consumer complaint narrative  \\\n",
       "1257518  I disputed this information because this was not my debt. I contacted XXXX XXXX services and I have a XXXX balance. This belongs to XXXX XXXX. The incorrect debt was removed from my credit on XXXX XXXX 2016. I recently just saw that this debt has been reinserted after it was deleted on XXXX XXXX   \n",
       "742196                                                                        I was affected by the Tornado that struck my place of employment ( XXXX ), which resulted in financial hardship and caused late payments. XXXX XXXX XXXX Please remove these late payments from my account due to natural disaster.   \n",
       "663739                                                          On XX/XX/XXXX, my account was compromised. Someone sent themselves {$410.00} & {$580.00} 2 transactions. The name was XXXX XXXX. \\nThis was not authorized by myself, I realized this a day later, when I was trying to remove money from an atm.   \n",
       "181044                                                Blackhawk XXXX gift card. An on-line merchant employee took card info during a purchase and attempted several transactions. XXXX succeeded ; XXXX XXXX XXXX for {$250.00}. Blackhawk says it was a valid transaction and refuses to return the money to me.   \n",
       "191037                                                                            Every time I tried to open a checking accounts it automatically declines and sends them to XXXX XXXX XXXX but they don't resolve nothing and I want to know why is this happening and what can I do from my part to resolve it.   \n",
       "612497                                          on XXXX XXXX, I sent a letter to the credit bureaus requesting an investigation on 5 accounts. Almost 60 days later, and none of them have responded. I have sent follow-up letters to inquire for the reason for the delay, and those have also gone unanswered.   \n",
       "936335    This company posted a debt to my credit report that is not correct and should not have been reported. I disputed the debt and they still chose to post to my report. No phone call or nothing. By law I have the right to dispute a debt. \\nI never lived in the apartments they claim I owe money too.   \n",
       "396042     This account was bought out by XXXX XXXX  XXXX  and was paid and closed. Santander is still showing on my credit report even after XXXX bought the account and stopped reporting the account. I have contacted santander by phone and email to remove the account from reporting to the credit bureaus   \n",
       "89654                              I have several items on my credit report that are not mine. I noticed it because I recently applied for a credit card and I wasnt approved so it prompts me to check my credit report. These items listed are not mine and need to be removed. USDDEPTOFEDXXXX XXXX {$1400.00}   \n",
       "764605                                                            I used XXXX service to send the funds and receive the item from the person but it was a fraud and I was ripped off. \\nI immediately called my bank ( Chase ) and I was told once the money has been delivered, they can't do anything about it.   \n",
       "\n",
       "                                                                              Product  \n",
       "1257518                                                              Credit reporting  \n",
       "742196   Credit reporting, credit repair services, or other personal consumer reports  \n",
       "663739                                                    Credit card or prepaid card  \n",
       "181044                                                                   Prepaid card  \n",
       "191037                                                    Checking or savings account  \n",
       "612497   Credit reporting, credit repair services, or other personal consumer reports  \n",
       "936335                                                                Debt collection  \n",
       "396042                                                                Debt collection  \n",
       "89654    Credit reporting, credit repair services, or other personal consumer reports  \n",
       "764605                             Money transfer, virtual currency, or money service  "
      ]
     },
     "execution_count": 8,
     "metadata": {},
     "output_type": "execute_result"
    }
   ],
   "source": [
    "cfpb_df[(cfpb_df['narr_len']<300)&(cfpb_df['narr_len']>200)].sample(10)[['Consumer complaint narrative','Product']]"
   ]
  },
  {
   "cell_type": "code",
   "execution_count": 9,
   "id": "129bc400",
   "metadata": {},
   "outputs": [
    {
     "data": {
      "text/plain": [
       "274.0"
      ]
     },
     "execution_count": 9,
     "metadata": {},
     "output_type": "execute_result"
    }
   ],
   "source": [
    "cfpb_df['narr_len'].quantile(.16)"
   ]
  },
  {
   "cell_type": "code",
   "execution_count": null,
   "id": "aaea4207",
   "metadata": {},
   "outputs": [],
   "source": []
  },
  {
   "cell_type": "code",
   "execution_count": 10,
   "id": "a8607fb3",
   "metadata": {},
   "outputs": [
    {
     "data": {
      "text/plain": [
       "Index(['Unnamed: 0', 'Date received', 'Product', 'Sub-product', 'Issue',\n",
       "       'Sub-issue', 'Consumer complaint narrative', 'Company public response',\n",
       "       'Company', 'State', 'ZIP code', 'Tags', 'Consumer consent provided?',\n",
       "       'Submitted via', 'Date sent to company', 'Company response to consumer',\n",
       "       'Timely response?', 'Consumer disputed?', 'Complaint ID', 'narr_len',\n",
       "       'days_to_today', 'clean_narr', 'dupi_id', 'dupi_len'],\n",
       "      dtype='object')"
      ]
     },
     "execution_count": 10,
     "metadata": {},
     "output_type": "execute_result"
    }
   ],
   "source": [
    "cfpb_df.columns"
   ]
  },
  {
   "cell_type": "code",
   "execution_count": 11,
   "id": "712b5975",
   "metadata": {},
   "outputs": [],
   "source": [
    "import matplotlib.pyplot as plt\n",
    "import seaborn as sns\n",
    "from sklearn.ensemble import RandomForestClassifier\n",
    "from imblearn.under_sampling import RandomUnderSampler\n",
    "from sklearn.metrics import f1_score\n",
    "from sklearn.preprocessing import LabelEncoder"
   ]
  },
  {
   "cell_type": "code",
   "execution_count": 12,
   "id": "478f6b40",
   "metadata": {},
   "outputs": [
    {
     "name": "stderr",
     "output_type": "stream",
     "text": [
      "C:\\Users\\JYM\\AppData\\Local\\Temp/ipykernel_57172/3601546177.py:12: SettingWithCopyWarning: \n",
      "A value is trying to be set on a copy of a slice from a DataFrame.\n",
      "Try using .loc[row_indexer,col_indexer] = value instead\n",
      "\n",
      "See the caveats in the documentation: https://pandas.pydata.org/pandas-docs/stable/user_guide/indexing.html#returning-a-view-versus-a-copy\n",
      "  filtered_df['Issue_encoded'] = label_encoder.fit_transform(filtered_df['Issue'])\n"
     ]
    }
   ],
   "source": [
    "# Step 1: Calculate the relative frequency of each class\n",
    "class_counts = cfpb_df['Issue'].value_counts(normalize=True)\n",
    "\n",
    "# Step 2: Filter classes that occur more than 1% of the time\n",
    "frequent_classes = class_counts[class_counts > 0.01].index\n",
    "\n",
    "# Step 3: Filter the DataFrame to only include rows with these classes\n",
    "filtered_df = cfpb_df[(cfpb_df['Issue'].isin(frequent_classes))&(cfpb_df['narr_len']>500)]\n",
    "\n",
    "# Step 4: Encode the labels of these classes\n",
    "label_encoder = LabelEncoder()\n",
    "filtered_df['Issue_encoded'] = label_encoder.fit_transform(filtered_df['Issue'])"
   ]
  },
  {
   "cell_type": "code",
   "execution_count": 13,
   "id": "f65ba256",
   "metadata": {},
   "outputs": [
    {
     "data": {
      "text/plain": [
       "Incorrect information on your report                                                0.234866\n",
       "Problem with a credit reporting company's investigation into an existing problem    0.172824\n",
       "Improper use of your report                                                         0.087281\n",
       "Attempts to collect debt not owed                                                   0.081599\n",
       "Trouble during payment process                                                      0.057706\n",
       "Managing an account                                                                 0.055653\n",
       "Problem with a purchase shown on your statement                                     0.038323\n",
       "Written notification about debt                                                     0.033224\n",
       "Struggling to pay mortgage                                                          0.029028\n",
       "False statements or representation                                                  0.026486\n",
       "Dealing with your lender or servicer                                                0.026125\n",
       "Loan servicing, payments, escrow account                                            0.023250\n",
       "Took or threatened to take negative or legal action                                 0.023105\n",
       "Communication tactics                                                               0.021133\n",
       "Managing the loan or lease                                                          0.018474\n",
       "Incorrect information on credit report                                              0.018315\n",
       "Other features, terms, or problems                                                  0.018038\n",
       "Fraud or scam                                                                       0.017869\n",
       "Cont'd attempts collect debt not owed                                               0.016704\n",
       "Name: Issue, dtype: float64"
      ]
     },
     "execution_count": 13,
     "metadata": {},
     "output_type": "execute_result"
    }
   ],
   "source": [
    "filtered_df['Issue'].value_counts(normalize=True)"
   ]
  },
  {
   "cell_type": "code",
   "execution_count": 14,
   "id": "b75220b4",
   "metadata": {},
   "outputs": [
    {
     "name": "stderr",
     "output_type": "stream",
     "text": [
      "C:\\Users\\JYM\\AppData\\Local\\Temp/ipykernel_57172/761405647.py:12: SettingWithCopyWarning: \n",
      "A value is trying to be set on a copy of a slice from a DataFrame.\n",
      "Try using .loc[row_indexer,col_indexer] = value instead\n",
      "\n",
      "See the caveats in the documentation: https://pandas.pydata.org/pandas-docs/stable/user_guide/indexing.html#returning-a-view-versus-a-copy\n",
      "  filtered_df['glove_50_features'] = filtered_df['clean_narr'].apply(vectorize_text_100)\n"
     ]
    }
   ],
   "source": [
    "# Prepare features and target variable\n",
    "\n",
    "def vectorize_text_100(text):\n",
    "    vectors = [embeddings_dict_6B_100D.get(word) for word in str(text).split() if word in embeddings_dict_6B_100D]\n",
    "    vectors = [v for v in vectors if v is not None]  # remove any None values\n",
    "    if vectors:\n",
    "        vectorized = np.mean(vectors, axis=0)\n",
    "    else:\n",
    "        vectorized = np.zeros(100)  # if there are no vectors, return a zero-vector\n",
    "    return vectorized\n",
    "# vectorize\n",
    "filtered_df['glove_50_features'] = filtered_df['clean_narr'].apply(vectorize_text_100)\n",
    "\n",
    "# create x and y\n",
    "X = list(filtered_df['glove_50_features'])\n",
    "y = filtered_df['Issue_encoded']\n",
    "\n",
    "# split data\n",
    "X_train, X_test, y_train, y_test = train_test_split(X, y, test_size=0.1, random_state=42)"
   ]
  },
  {
   "cell_type": "code",
   "execution_count": 15,
   "id": "40f51188",
   "metadata": {},
   "outputs": [],
   "source": [
    "# Apply Balancing with ADASYN\n",
    "# ada = ADASYN(random_state=42)\n",
    "# X_train_resampled, y_train_resampled = ada.fit_resample(np.array(X_train).tolist(), y_train)\n",
    "# rus = RandomUnderSampler(random_state=42)\n",
    "# X_train_resampled, y_train_resampled = rus.fit_resample(np.array(X_train).tolist(), y_train)\n",
    "\n",
    "# Reset indices\n",
    "X_train_resampled = np.array(X_train).tolist()\n",
    "y_train_resampled = y_train.tolist()"
   ]
  },
  {
   "cell_type": "code",
   "execution_count": 16,
   "id": "b2d9df1e",
   "metadata": {
    "scrolled": false
   },
   "outputs": [
    {
     "name": "stdout",
     "output_type": "stream",
     "text": [
      "Fitting 5 folds for each of 1 candidates, totalling 5 fits\n",
      "0.48621720220425785\n",
      "              precision    recall  f1-score   support\n",
      "\n",
      "           0       0.35      0.40      0.38      4110\n",
      "           1       0.33      0.57      0.42      1014\n",
      "           2       0.22      0.07      0.10       861\n",
      "           3       0.52      0.56      0.54      1326\n",
      "           4       0.23      0.09      0.12      1348\n",
      "           5       0.49      0.23      0.31       885\n",
      "           6       0.75      0.61      0.67      4443\n",
      "           7       0.42      0.04      0.08       932\n",
      "           8       0.61      0.60      0.60     11799\n",
      "           9       0.26      0.14      0.19      1173\n",
      "          10       0.45      0.72      0.55      2805\n",
      "          11       0.31      0.28      0.30       872\n",
      "          12       0.45      0.24      0.31       923\n",
      "          13       0.62      0.59      0.60      8833\n",
      "          14       0.41      0.55      0.47      1910\n",
      "          15       0.45      0.52      0.48      1490\n",
      "          16       0.25      0.13      0.17      1155\n",
      "          17       0.34      0.63      0.45      2892\n",
      "          18       0.34      0.20      0.26      1691\n",
      "\n",
      "    accuracy                           0.50     50462\n",
      "   macro avg       0.41      0.38      0.37     50462\n",
      "weighted avg       0.50      0.50      0.49     50462\n",
      "\n",
      "The best parameters: {'bootstrap': True, 'class_weight': 'balanced', 'max_depth': 25, 'max_features': 0.25, 'max_samples': 0.25, 'min_samples_split': 10, 'n_estimators': 100}\n",
      "Data size: 200000\n",
      "{'bootstrap': True, 'class_weight': 'balanced', 'max_depth': 25, 'max_features': 0.25, 'max_samples': 0.25, 'min_samples_split': 10, 'n_estimators': 100} has a score of 0.4816151115890068\n",
      "-----------------------------------------------------------------------\n",
      "**************************************************************************\n"
     ]
    }
   ],
   "source": [
    "# for data_size in [10000, 20000, 30000, 40000, 50000]:\n",
    "# for data_size in [20000, 30000, 40000, 50000]:\n",
    "# for data_size in [50000, 100000, 150000]:\n",
    "for data_size in [200000]:\n",
    "    # Randomly select x samples for training\n",
    "    sample_idx = np.random.choice(len(X_train_resampled), data_size, replace=False)\n",
    "    X_train_resampled_sampled = [X_train_resampled[i] for i in sample_idx]\n",
    "    y_train_resampled_sampled = [y_train_resampled[i] for i in sample_idx]\n",
    "\n",
    "    # grid search\n",
    "    # param_grid = {'n_estimators': [50, 100, 200], 'max_depth': [10, 20, 30], 'min_samples_split': [5,10,20]}\n",
    "    # first round\n",
    "    param_grid = {\n",
    "        'n_estimators': [100, 200, 300], \n",
    "        'max_depth': [10, 25, 50], \n",
    "        'min_samples_split': [5, 10],\n",
    "        'bootstrap': [True],\n",
    "        'max_features': ['sqrt', 'log2']\n",
    "    } # best {'bootstrap': True, 'max_depth': 25,50 'max_features': 'log2''sqrt', 'min_samples_split': 10, 'n_estimators': 200,300} [0.427, 0.455, 0.466...]\n",
    "    \n",
    "    # second run\n",
    "    param_grid = {\n",
    "        'n_estimators': [100],# , 200, 300], \n",
    "        'max_depth': [25], #50, 75], \n",
    "        'min_samples_split': [10],# 5, 15],\n",
    "        'bootstrap': [True],\n",
    "        'class_weight': ['balanced'],#,None],\n",
    "        'max_features': [0.25],#0.30],\n",
    "        'max_samples': [0.25]#[0.1, 0.3,0.4]\n",
    "    } \n",
    "\n",
    "    # initialize random forest and grid\n",
    "    rf = RandomForestClassifier(n_jobs=-1)\n",
    "    grid = GridSearchCV(rf, param_grid, cv=5, scoring='f1_weighted', verbose=4, n_jobs=-1)\n",
    "    # fitting the grid\n",
    "    grid.fit(np.array(X_train_resampled_sampled).tolist(), y_train_resampled_sampled)\n",
    "\n",
    "    # evaluate\n",
    "    y_pred = grid.predict(np.array(X_test).tolist())\n",
    "    print(f1_score(y_test, y_pred, average='weighted'))\n",
    "    print(classification_report(y_test, y_pred))\n",
    "    print(\"The best parameters:\", grid.best_params_)\n",
    "    print(\"Data size:\", data_size)\n",
    "\n",
    "    results = grid.cv_results_\n",
    "    for mean_test_score, params in zip(results[\"mean_test_score\"], results[\"params\"]):\n",
    "        print(params, \"has a score of\", mean_test_score)\n",
    "    print(\"-----------------------------------------------------------------------\")\n",
    "print(\"**************************************************************************\")"
   ]
  },
  {
   "cell_type": "code",
   "execution_count": 17,
   "id": "a8abe698",
   "metadata": {},
   "outputs": [
    {
     "name": "stdout",
     "output_type": "stream",
     "text": [
      "0.4444018412079182\n",
      "              precision    recall  f1-score   support\n",
      "\n",
      "           0       0.45      0.19      0.26      4110\n",
      "           1       0.29      0.63      0.40      1014\n",
      "           2       0.13      0.24      0.17       861\n",
      "           3       0.43      0.64      0.52      1326\n",
      "           4       0.21      0.13      0.16      1348\n",
      "           5       0.29      0.55      0.38       885\n",
      "           6       0.62      0.65      0.64      4443\n",
      "           7       0.10      0.54      0.17       932\n",
      "           8       0.77      0.36      0.50     11799\n",
      "           9       0.21      0.38      0.27      1173\n",
      "          10       0.58      0.52      0.55      2805\n",
      "          11       0.21      0.46      0.28       872\n",
      "          12       0.23      0.43      0.30       923\n",
      "          13       0.65      0.47      0.55      8833\n",
      "          14       0.41      0.55      0.47      1910\n",
      "          15       0.40      0.59      0.48      1490\n",
      "          16       0.18      0.21      0.19      1155\n",
      "          17       0.45      0.36      0.40      2892\n",
      "          18       0.26      0.37      0.30      1691\n",
      "\n",
      "    accuracy                           0.43     50462\n",
      "   macro avg       0.36      0.44      0.37     50462\n",
      "weighted avg       0.53      0.43      0.44     50462\n",
      "\n",
      "Wall time: 32.4 s\n"
     ]
    }
   ],
   "source": [
    "%%time\n",
    "# train the model:\n",
    "rf = RandomForestClassifier(bootstrap=True, class_weight= 'balanced', max_depth=25, max_features=0.25, max_samples=0.25, min_samples_split=10, n_estimators=100, n_jobs=-1)\n",
    "\n",
    "rus = RandomUnderSampler(random_state=42)\n",
    "X_train_resampled, y_train_resampled = rus.fit_resample(np.array(X_train).tolist(), y_train)\n",
    "# sample_idx = np.random.choice(len(X_train_resampled), data_size, replace=False)\n",
    "# X_train_resampled_sampled = [X_train_resampled[i] for i in sample_idx]\n",
    "# y_train_resampled_sampled = [y_train_resampled[i] for i in sample_idx]\n",
    "\n",
    "rf.fit(np.array(X_train_resampled).tolist(), y_train_resampled)\n",
    "\n",
    "y_pred = rf.predict(np.array(X_test).tolist())\n",
    "print(f1_score(y_test, y_pred, average='weighted'))\n",
    "print(classification_report(y_test, y_pred))"
   ]
  },
  {
   "cell_type": "code",
   "execution_count": 19,
   "id": "fb800771",
   "metadata": {},
   "outputs": [],
   "source": [
    "import pickle\n",
    "# Save each model\n",
    "with open(\"issue_rf_model.pkl\", 'wb') as file:\n",
    "    pickle.dump(rf, file)"
   ]
  },
  {
   "cell_type": "code",
   "execution_count": null,
   "id": "f6de0e99",
   "metadata": {},
   "outputs": [],
   "source": []
  },
  {
   "cell_type": "code",
   "execution_count": null,
   "id": "68e83254",
   "metadata": {},
   "outputs": [],
   "source": []
  },
  {
   "cell_type": "code",
   "execution_count": null,
   "id": "052c43ac",
   "metadata": {},
   "outputs": [],
   "source": []
  },
  {
   "cell_type": "code",
   "execution_count": null,
   "id": "99af1cd4",
   "metadata": {},
   "outputs": [],
   "source": []
  }
 ],
 "metadata": {
  "kernelspec": {
   "display_name": "Python 3 (ipykernel)",
   "language": "python",
   "name": "python3"
  },
  "language_info": {
   "codemirror_mode": {
    "name": "ipython",
    "version": 3
   },
   "file_extension": ".py",
   "mimetype": "text/x-python",
   "name": "python",
   "nbconvert_exporter": "python",
   "pygments_lexer": "ipython3",
   "version": "3.9.13"
  }
 },
 "nbformat": 4,
 "nbformat_minor": 5
}
